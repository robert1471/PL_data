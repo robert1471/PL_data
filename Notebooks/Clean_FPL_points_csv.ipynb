{
 "cells": [
  {
   "cell_type": "code",
   "execution_count": 14,
   "metadata": {
    "collapsed": true
   },
   "outputs": [],
   "source": [
    "myq\n",
    "import os\n",
    "import pandas as pd"
   ]
  },
  {
   "cell_type": "code",
   "execution_count": 31,
   "outputs": [],
   "source": [
    "directory = \"../Data/\"\n",
    "dfs = {}\n",
    "mega_df = pd.DataFrame()\n",
    "for i in range(1, 47):\n",
    "    dfs[f\"gw_{i}\"] = pd.read_csv(directory + f\"gw_{i}.csv\")\n",
    "    dfs[f\"gw_{i}\"][\"Round\"] = i\n",
    "    mega_df = pd.concat([mega_df, dfs[f\"gw_{i}\"]])\n",
    "\n",
    "for i in range(30, 38):\n",
    "    dfs[f\"gw_{i}\"] = dfs[f\"gw_{i + 9}\"]\n",
    "    dfs[f\"gw_{i}\"][\"Round\"] = i\n",
    "    del dfs[f\"gw_{i + 9}\"]\n",
    "\n",
    "mega_df = mega_df.loc[:, ~mega_df.columns.str.contains('^Unnamed')]\n",
    "mega_df.to_csv(\"../Data/all_dfs.csv\")"
   ],
   "metadata": {
    "collapsed": false,
    "pycharm": {
     "name": "#%%\n"
    }
   }
  },
  {
   "cell_type": "code",
   "execution_count": 32,
   "outputs": [],
   "source": [
    "all_dfs = pd.read_csv(\"../Data/all_dfs.csv\").sort_values([\"player_name\",\"Round\"])\n",
    "all_dfs = all_dfs[all_dfs.influence != 0]\n",
    "all_dfs.to_csv(\"../Data/ordered_names.csv\")"
   ],
   "metadata": {
    "collapsed": false,
    "pycharm": {
     "name": "#%%\n"
    }
   }
  }
 ],
 "metadata": {
  "kernelspec": {
   "name": "pycharm-2305400",
   "language": "python",
   "display_name": "PyCharm (Oxychlorides)"
  },
  "language_info": {
   "codemirror_mode": {
    "name": "ipython",
    "version": 2
   },
   "file_extension": ".py",
   "mimetype": "text/x-python",
   "name": "python",
   "nbconvert_exporter": "python",
   "pygments_lexer": "ipython2",
   "version": "2.7.6"
  }
 },
 "nbformat": 4,
 "nbformat_minor": 0
}