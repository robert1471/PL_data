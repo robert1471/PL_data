{
 "cells": [
  {
   "cell_type": "markdown",
   "source": [
    "Webscraping attempt. Here is the definition of the URL and the use of the requests library to get the webpage"
   ],
   "metadata": {
    "collapsed": false,
    "pycharm": {
     "name": "#%% md\n"
    }
   }
  },
  {
   "cell_type": "code",
   "execution_count": 1,
   "outputs": [],
   "source": [
    "import requests\n",
    "\n",
    "URL = 'https://fbref.com/en/comps/9/stats/Premier-League-Stats#all_stats_standard'\n",
    "page = requests.get(URL)\n"
   ],
   "metadata": {
    "collapsed": false,
    "pycharm": {
     "name": "#%%\n"
    }
   }
  },
  {
   "cell_type": "markdown",
   "source": [
    "To do this, we are going to use BeautifulSoup. First to import bs4 and make a soup object."
   ],
   "metadata": {
    "collapsed": false,
    "pycharm": {
     "name": "#%% md\n"
    }
   }
  },
  {
   "cell_type": "code",
   "execution_count": 2,
   "outputs": [],
   "source": [
    "from bs4 import BeautifulSoup\n",
    "soup = BeautifulSoup(page.content, 'html.parser')"
   ],
   "metadata": {
    "collapsed": false,
    "pycharm": {
     "name": "#%%\n"
    }
   }
  },
  {
   "cell_type": "markdown",
   "source": [
    "After a bit of trekking through the page I have found that \"td\" objects are those which contain data (although no idea\n",
    "what the \"td\" actually stands for). Although you can use \"results = results.contents[6].contents\" to find the content,\n",
    "it is much easier to use bs4's \"find_all method\"."
   ],
   "metadata": {
    "collapsed": false,
    "pycharm": {
     "name": "#%% md\n"
    }
   }
  },
  {
   "cell_type": "code",
   "execution_count": 3,
   "outputs": [],
   "source": [
    "all_data = soup.find_all(\"td\",)\n",
    "all_teams = soup.find_all(attrs={\"data-stat\": \"squad\"})"
   ],
   "metadata": {
    "collapsed": false,
    "pycharm": {
     "name": "#%%\n"
    }
   }
  },
  {
   "cell_type": "markdown",
   "source": [
    "Let's get a list of all the team names together."
   ],
   "metadata": {
    "collapsed": false,
    "pycharm": {
     "name": "#%% md\n"
    }
   }
  },
  {
   "cell_type": "code",
   "execution_count": 4,
   "outputs": [],
   "source": [
    "teams = []\n",
    "for href in all_teams:\n",
    "    if href.contents[0] != 'Squad':\n",
    "        teams.append(href.contents[0].get_text())"
   ],
   "metadata": {
    "collapsed": false,
    "pycharm": {
     "name": "#%%\n"
    }
   }
  },
  {
   "cell_type": "markdown",
   "source": [
    "The find_all method unfortunately for this page gives just one long list. I am fairly sure there will be some what to\n",
    "load this data straight to a df. For now however, let's get all the unique stats from the long single list."
   ],
   "metadata": {
    "collapsed": false,
    "pycharm": {
     "name": "#%% md\n"
    }
   }
  },
  {
   "cell_type": "code",
   "execution_count": 5,
   "outputs": [],
   "source": [
    "headers = []\n",
    "\n",
    "for link in all_data:\n",
    "    if link.attrs['data-stat'] not in headers:\n",
    "        headers.append(link.attrs['data-stat'])\n",
    "    #print(link.attrs['data-stat'], link.contents[0])"
   ],
   "metadata": {
    "collapsed": false,
    "pycharm": {
     "name": "#%%\n"
    }
   }
  },
  {
   "cell_type": "markdown",
   "source": [
    "Now the trick I have used here is to use pythons defaultdict to make a dictionary of lists and add all values into it.\n",
    "This is handy for loading straight into a df."
   ],
   "metadata": {
    "collapsed": false,
    "pycharm": {
     "name": "#%% md\n"
    }
   }
  },
  {
   "cell_type": "code",
   "execution_count": 6,
   "outputs": [],
   "source": [
    "from collections import defaultdict\n",
    "data_dict = defaultdict(list)\n",
    "\n",
    "for entry in all_data:\n",
    "    data_name = entry.attrs['data-stat']\n",
    "    data_value = entry.contents[0]\n",
    "    data_dict[data_name].append(str(data_value))\n"
   ],
   "metadata": {
    "collapsed": false,
    "pycharm": {
     "name": "#%%\n"
    }
   }
  },
  {
   "cell_type": "markdown",
   "source": [
    "Then this slots quite nicely into a df and then off to a csv"
   ],
   "metadata": {
    "collapsed": false,
    "pycharm": {
     "name": "#%% md\n"
    }
   }
  },
  {
   "cell_type": "code",
   "execution_count": 7,
   "outputs": [],
   "source": [
    "\n",
    "import pandas as pd\n",
    "data_frame = pd.DataFrame(data_dict)\n",
    "for i, team in enumerate(teams):\n",
    "    data_frame = data_frame.rename(index={i: team})\n",
    "data_frame.to_csv(\"./team_data.csv\")\n",
    "\n",
    "#for team_stats in all_data:\n",
    "#    find_stat = re.findall(\"<td.*?data-stat=\\\".*?\\\".*?>.*?td>\", team_stats)\n",
    "    #for i, stat in enumerate(find_stat):\n",
    "     #   find_stat[i] = re.sub(\"<td.*=\", \"\", string=stat)\n",
    "    # print(find_stat)\n"
   ],
   "metadata": {
    "collapsed": false,
    "pycharm": {
     "name": "#%%\n"
    }
   }
  }
 ],
 "metadata": {
  "kernelspec": {
   "display_name": "Python 3",
   "language": "python",
   "name": "python3"
  },
  "language_info": {
   "codemirror_mode": {
    "name": "ipython",
    "version": 2
   },
   "file_extension": ".py",
   "mimetype": "text/x-python",
   "name": "python",
   "nbconvert_exporter": "python",
   "pygments_lexer": "ipython2",
   "version": "2.7.6"
  }
 },
 "nbformat": 4,
 "nbformat_minor": 0
}