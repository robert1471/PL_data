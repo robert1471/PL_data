{
 "cells": [
  {
   "cell_type": "markdown",
   "source": [
    "Get the names of players and their indexes"
   ],
   "metadata": {
    "collapsed": false,
    "pycharm": {
     "name": "#%% md\n"
    }
   }
  },
  {
   "cell_type": "code",
   "execution_count": 1,
   "outputs": [],
   "source": [
    "import pandas as pd\n",
    "\n",
    "names = pd.read_csv(\"../Data/Cleaned_2019_2020_Players/names.csv\")"
   ],
   "metadata": {
    "collapsed": false,
    "pycharm": {
     "name": "#%%\n"
    }
   }
  },
  {
   "cell_type": "code",
   "execution_count": 2,
   "outputs": [],
   "source": [
    "names_list = [name[1].Player for name in names.iterrows()]\n",
    "key_list = [i for i in range(len(names))]\n",
    "names_dict = {key_list[i]: names_list[i] for i in range(len(key_list))}"
   ],
   "metadata": {
    "collapsed": false,
    "pycharm": {
     "name": "#%%\n"
    }
   }
  },
  {
   "cell_type": "code",
   "execution_count": 3,
   "outputs": [],
   "source": [
    "data_dict = {key: pd.read_csv(f\"../Data/Cleaned_2019_2020_Players/player_{i}.csv\") for key, i in zip(names_dict.values(), range(len(names_list)))}"
   ],
   "metadata": {
    "collapsed": false,
    "pycharm": {
     "name": "#%%\n"
    }
   }
  },
  {
   "cell_type": "code",
   "execution_count": 4,
   "outputs": [],
   "source": [
    "single_data_frame = pd.concat(data_dict.values(), keys=data_dict.keys(), sort=False)"
   ],
   "metadata": {
    "collapsed": false,
    "pycharm": {
     "name": "#%%\n"
    }
   }
  },
  {
   "cell_type": "code",
   "execution_count": 5,
   "outputs": [
    {
     "data": {
      "text/plain": "                               Unnamed: 0        Date  Day             Comp  \\\nPlayers             Gameweeks                                                 \nPatrick-van-Aanholt 0                   1  10/08/2019  Sat   Premier League   \n                    1                   2  18/08/2019  Sun   Premier League   \n                    2                   3  24/08/2019  Sat   Premier League   \n                    3                   5  31/08/2019  Sat   Premier League   \n                    4                   6  06/09/2019  Fri  Euro Qualifying   \n...                                   ...         ...  ...              ...   \nKurt-Zouma          52                 59  2020-07-19  Sun           FA Cup   \n                    53                 60  2020-07-22  Wed   Premier League   \n                    54                 61  2020-07-26  Sun   Premier League   \n                    55                 62  2020-08-01  Sat           FA Cup   \n                    56                 63  2020-08-08  Sat     Champions Lg   \n\n                                      Round    Venue Result           Squad  \\\nPlayers             Gameweeks                                                 \nPatrick-van-Aanholt 0           Matchweek 1     Home  D 0–0  Crystal Palace   \n                    1           Matchweek 2     Away  L 0–1  Crystal Palace   \n                    2           Matchweek 3     Away  W 2–1  Crystal Palace   \n                    3           Matchweek 4     Home  W 1–0  Crystal Palace   \n                    4           Group stage     Away  W 4–2  nl Netherlands   \n...                                     ...      ...    ...             ...   \nKurt-Zouma          52          Semi-finals  Neutral  W 3–1         Chelsea   \n                    53         Matchweek 37     Away  L 3–5         Chelsea   \n                    54         Matchweek 38     Home  W 2–0         Chelsea   \n                    55                Final  Neutral  L 1–2         Chelsea   \n                    56          Round of 16     Away  L 1–4     eng Chelsea   \n\n                                       Opponent Start  ... Thr  Launch%  \\\nPlayers             Gameweeks                          ...                \nPatrick-van-Aanholt 0                   Everton     Y  ... NaN      NaN   \n                    1             Sheffield Utd     Y  ... NaN      NaN   \n                    2            Manchester Utd     Y  ... NaN      NaN   \n                    3               Aston Villa     Y  ... NaN      NaN   \n                    4                de Germany     N  ... NaN      NaN   \n...                                         ...   ...  ...  ..      ...   \nKurt-Zouma          52           Manchester Utd     Y  ... NaN      NaN   \n                    53                Liverpool     Y  ... NaN      NaN   \n                    54                   Wolves     Y  ... NaN      NaN   \n                    55                  Arsenal     Y  ... NaN      NaN   \n                    56         de Bayern Munich     Y  ... NaN      NaN   \n\n                               AvgLen  Launch%.1  AvgLen.1  Opp  Stp  Stp%  \\\nPlayers             Gameweeks                                                \nPatrick-van-Aanholt 0             NaN        NaN       NaN  NaN  NaN   NaN   \n                    1             NaN        NaN       NaN  NaN  NaN   NaN   \n                    2             NaN        NaN       NaN  NaN  NaN   NaN   \n                    3             NaN        NaN       NaN  NaN  NaN   NaN   \n                    4             NaN        NaN       NaN  NaN  NaN   NaN   \n...                               ...        ...       ...  ...  ...   ...   \nKurt-Zouma          52            NaN        NaN       NaN  NaN  NaN   NaN   \n                    53            NaN        NaN       NaN  NaN  NaN   NaN   \n                    54            NaN        NaN       NaN  NaN  NaN   NaN   \n                    55            NaN        NaN       NaN  NaN  NaN   NaN   \n                    56            NaN        NaN       NaN  NaN  NaN   NaN   \n\n                               #OPA  AvgDist  \nPlayers             Gameweeks                 \nPatrick-van-Aanholt 0           NaN      NaN  \n                    1           NaN      NaN  \n                    2           NaN      NaN  \n                    3           NaN      NaN  \n                    4           NaN      NaN  \n...                             ...      ...  \nKurt-Zouma          52          NaN      NaN  \n                    53          NaN      NaN  \n                    54          NaN      NaN  \n                    55          NaN      NaN  \n                    56          NaN      NaN  \n\n[18942 rows x 133 columns]",
      "text/html": "<div>\n<style scoped>\n    .dataframe tbody tr th:only-of-type {\n        vertical-align: middle;\n    }\n\n    .dataframe tbody tr th {\n        vertical-align: top;\n    }\n\n    .dataframe thead th {\n        text-align: right;\n    }\n</style>\n<table border=\"1\" class=\"dataframe\">\n  <thead>\n    <tr style=\"text-align: right;\">\n      <th></th>\n      <th></th>\n      <th>Unnamed: 0</th>\n      <th>Date</th>\n      <th>Day</th>\n      <th>Comp</th>\n      <th>Round</th>\n      <th>Venue</th>\n      <th>Result</th>\n      <th>Squad</th>\n      <th>Opponent</th>\n      <th>Start</th>\n      <th>...</th>\n      <th>Thr</th>\n      <th>Launch%</th>\n      <th>AvgLen</th>\n      <th>Launch%.1</th>\n      <th>AvgLen.1</th>\n      <th>Opp</th>\n      <th>Stp</th>\n      <th>Stp%</th>\n      <th>#OPA</th>\n      <th>AvgDist</th>\n    </tr>\n    <tr>\n      <th>Players</th>\n      <th>Gameweeks</th>\n      <th></th>\n      <th></th>\n      <th></th>\n      <th></th>\n      <th></th>\n      <th></th>\n      <th></th>\n      <th></th>\n      <th></th>\n      <th></th>\n      <th></th>\n      <th></th>\n      <th></th>\n      <th></th>\n      <th></th>\n      <th></th>\n      <th></th>\n      <th></th>\n      <th></th>\n      <th></th>\n      <th></th>\n    </tr>\n  </thead>\n  <tbody>\n    <tr>\n      <th rowspan=\"5\" valign=\"top\">Patrick-van-Aanholt</th>\n      <th>0</th>\n      <td>1</td>\n      <td>10/08/2019</td>\n      <td>Sat</td>\n      <td>Premier League</td>\n      <td>Matchweek 1</td>\n      <td>Home</td>\n      <td>D 0–0</td>\n      <td>Crystal Palace</td>\n      <td>Everton</td>\n      <td>Y</td>\n      <td>...</td>\n      <td>NaN</td>\n      <td>NaN</td>\n      <td>NaN</td>\n      <td>NaN</td>\n      <td>NaN</td>\n      <td>NaN</td>\n      <td>NaN</td>\n      <td>NaN</td>\n      <td>NaN</td>\n      <td>NaN</td>\n    </tr>\n    <tr>\n      <th>1</th>\n      <td>2</td>\n      <td>18/08/2019</td>\n      <td>Sun</td>\n      <td>Premier League</td>\n      <td>Matchweek 2</td>\n      <td>Away</td>\n      <td>L 0–1</td>\n      <td>Crystal Palace</td>\n      <td>Sheffield Utd</td>\n      <td>Y</td>\n      <td>...</td>\n      <td>NaN</td>\n      <td>NaN</td>\n      <td>NaN</td>\n      <td>NaN</td>\n      <td>NaN</td>\n      <td>NaN</td>\n      <td>NaN</td>\n      <td>NaN</td>\n      <td>NaN</td>\n      <td>NaN</td>\n    </tr>\n    <tr>\n      <th>2</th>\n      <td>3</td>\n      <td>24/08/2019</td>\n      <td>Sat</td>\n      <td>Premier League</td>\n      <td>Matchweek 3</td>\n      <td>Away</td>\n      <td>W 2–1</td>\n      <td>Crystal Palace</td>\n      <td>Manchester Utd</td>\n      <td>Y</td>\n      <td>...</td>\n      <td>NaN</td>\n      <td>NaN</td>\n      <td>NaN</td>\n      <td>NaN</td>\n      <td>NaN</td>\n      <td>NaN</td>\n      <td>NaN</td>\n      <td>NaN</td>\n      <td>NaN</td>\n      <td>NaN</td>\n    </tr>\n    <tr>\n      <th>3</th>\n      <td>5</td>\n      <td>31/08/2019</td>\n      <td>Sat</td>\n      <td>Premier League</td>\n      <td>Matchweek 4</td>\n      <td>Home</td>\n      <td>W 1–0</td>\n      <td>Crystal Palace</td>\n      <td>Aston Villa</td>\n      <td>Y</td>\n      <td>...</td>\n      <td>NaN</td>\n      <td>NaN</td>\n      <td>NaN</td>\n      <td>NaN</td>\n      <td>NaN</td>\n      <td>NaN</td>\n      <td>NaN</td>\n      <td>NaN</td>\n      <td>NaN</td>\n      <td>NaN</td>\n    </tr>\n    <tr>\n      <th>4</th>\n      <td>6</td>\n      <td>06/09/2019</td>\n      <td>Fri</td>\n      <td>Euro Qualifying</td>\n      <td>Group stage</td>\n      <td>Away</td>\n      <td>W 4–2</td>\n      <td>nl Netherlands</td>\n      <td>de Germany</td>\n      <td>N</td>\n      <td>...</td>\n      <td>NaN</td>\n      <td>NaN</td>\n      <td>NaN</td>\n      <td>NaN</td>\n      <td>NaN</td>\n      <td>NaN</td>\n      <td>NaN</td>\n      <td>NaN</td>\n      <td>NaN</td>\n      <td>NaN</td>\n    </tr>\n    <tr>\n      <th>...</th>\n      <th>...</th>\n      <td>...</td>\n      <td>...</td>\n      <td>...</td>\n      <td>...</td>\n      <td>...</td>\n      <td>...</td>\n      <td>...</td>\n      <td>...</td>\n      <td>...</td>\n      <td>...</td>\n      <td>...</td>\n      <td>...</td>\n      <td>...</td>\n      <td>...</td>\n      <td>...</td>\n      <td>...</td>\n      <td>...</td>\n      <td>...</td>\n      <td>...</td>\n      <td>...</td>\n      <td>...</td>\n    </tr>\n    <tr>\n      <th rowspan=\"5\" valign=\"top\">Kurt-Zouma</th>\n      <th>52</th>\n      <td>59</td>\n      <td>2020-07-19</td>\n      <td>Sun</td>\n      <td>FA Cup</td>\n      <td>Semi-finals</td>\n      <td>Neutral</td>\n      <td>W 3–1</td>\n      <td>Chelsea</td>\n      <td>Manchester Utd</td>\n      <td>Y</td>\n      <td>...</td>\n      <td>NaN</td>\n      <td>NaN</td>\n      <td>NaN</td>\n      <td>NaN</td>\n      <td>NaN</td>\n      <td>NaN</td>\n      <td>NaN</td>\n      <td>NaN</td>\n      <td>NaN</td>\n      <td>NaN</td>\n    </tr>\n    <tr>\n      <th>53</th>\n      <td>60</td>\n      <td>2020-07-22</td>\n      <td>Wed</td>\n      <td>Premier League</td>\n      <td>Matchweek 37</td>\n      <td>Away</td>\n      <td>L 3–5</td>\n      <td>Chelsea</td>\n      <td>Liverpool</td>\n      <td>Y</td>\n      <td>...</td>\n      <td>NaN</td>\n      <td>NaN</td>\n      <td>NaN</td>\n      <td>NaN</td>\n      <td>NaN</td>\n      <td>NaN</td>\n      <td>NaN</td>\n      <td>NaN</td>\n      <td>NaN</td>\n      <td>NaN</td>\n    </tr>\n    <tr>\n      <th>54</th>\n      <td>61</td>\n      <td>2020-07-26</td>\n      <td>Sun</td>\n      <td>Premier League</td>\n      <td>Matchweek 38</td>\n      <td>Home</td>\n      <td>W 2–0</td>\n      <td>Chelsea</td>\n      <td>Wolves</td>\n      <td>Y</td>\n      <td>...</td>\n      <td>NaN</td>\n      <td>NaN</td>\n      <td>NaN</td>\n      <td>NaN</td>\n      <td>NaN</td>\n      <td>NaN</td>\n      <td>NaN</td>\n      <td>NaN</td>\n      <td>NaN</td>\n      <td>NaN</td>\n    </tr>\n    <tr>\n      <th>55</th>\n      <td>62</td>\n      <td>2020-08-01</td>\n      <td>Sat</td>\n      <td>FA Cup</td>\n      <td>Final</td>\n      <td>Neutral</td>\n      <td>L 1–2</td>\n      <td>Chelsea</td>\n      <td>Arsenal</td>\n      <td>Y</td>\n      <td>...</td>\n      <td>NaN</td>\n      <td>NaN</td>\n      <td>NaN</td>\n      <td>NaN</td>\n      <td>NaN</td>\n      <td>NaN</td>\n      <td>NaN</td>\n      <td>NaN</td>\n      <td>NaN</td>\n      <td>NaN</td>\n    </tr>\n    <tr>\n      <th>56</th>\n      <td>63</td>\n      <td>2020-08-08</td>\n      <td>Sat</td>\n      <td>Champions Lg</td>\n      <td>Round of 16</td>\n      <td>Away</td>\n      <td>L 1–4</td>\n      <td>eng Chelsea</td>\n      <td>de Bayern Munich</td>\n      <td>Y</td>\n      <td>...</td>\n      <td>NaN</td>\n      <td>NaN</td>\n      <td>NaN</td>\n      <td>NaN</td>\n      <td>NaN</td>\n      <td>NaN</td>\n      <td>NaN</td>\n      <td>NaN</td>\n      <td>NaN</td>\n      <td>NaN</td>\n    </tr>\n  </tbody>\n</table>\n<p>18942 rows × 133 columns</p>\n</div>"
     },
     "execution_count": 5,
     "metadata": {},
     "output_type": "execute_result"
    }
   ],
   "source": [
    "single_data_frame.rename_axis([\"Players\", \"Gameweeks\"])"
   ],
   "metadata": {
    "collapsed": false,
    "pycharm": {
     "name": "#%%\n"
    }
   }
  },
  {
   "cell_type": "code",
   "execution_count": 6,
   "outputs": [],
   "source": [
    "pl_data = single_data_frame.query(\"Comp == 'Premier League'\")\n",
    "# pl_data.to_csv(\"../Data/Cleaned_2019_2020_Players/all_players.csv\")"
   ],
   "metadata": {
    "collapsed": false,
    "pycharm": {
     "name": "#%%\n"
    }
   }
  },
  {
   "cell_type": "code",
   "execution_count": 16,
   "outputs": [],
   "source": [
    "index_1 = pl_data.xs(0, level=1, drop_level=False)"
   ],
   "metadata": {
    "collapsed": false,
    "pycharm": {
     "name": "#%%\n"
    }
   }
  },
  {
   "cell_type": "code",
   "execution_count": 18,
   "outputs": [
    {
     "data": {
      "text/plain": "                       Unnamed: 0        Date  Day            Comp  \\\nPatrick-van-Aanholt 0           1  10/08/2019  Sat  Premier League   \nJordan-Ayew         2           3  2019-08-10  Sat  Premier League   \nChristian-Benteke   0           1  2019-08-10  Sat  Premier League   \nGary-Cahill         0           1  2019-08-10  Sat  Premier League   \nVictor-Camarasa     0           1  2019-08-10  Sat  Premier League   \nScott-Dann          0           1  2019-08-10  Sat  Premier League   \nVicente-Guaita      0           1  2019-08-10  Sat  Premier League   \nWayne-Hennessey     0           1  2019-08-10  Sat  Premier League   \nMartin-Kelly        0           1  2019-08-10  Sat  Premier League   \nCheikhou-Kouyate    5           6  2019-08-10  Sat  Premier League   \nJames-McArthur      0           1  2019-08-10  Sat  Premier League   \nJames-McCarthy      0           1  2019-08-10  Sat  Premier League   \nMax-Meyer           0           1  2019-08-10  Sat  Premier League   \nLuka-Milivojevic    0           1  2019-08-10  Sat  Premier League   \nAndros-Townsend     0           1  2019-08-10  Sat  Premier League   \nJoel-Ward           0           1  2019-08-10  Sat  Premier League   \nConnor-Wickham      0           1  2019-08-10  Sat  Premier League   \nWilfried-Zaha       3           4  2019-08-10  Sat  Premier League   \n\n                             Round Venue Result           Squad Opponent  \\\nPatrick-van-Aanholt 0  Matchweek 1  Home  D 0–0  Crystal Palace  Everton   \nJordan-Ayew         2  Matchweek 1  Home  D 0–0  Crystal Palace  Everton   \nChristian-Benteke   0  Matchweek 1  Home  D 0–0  Crystal Palace  Everton   \nGary-Cahill         0  Matchweek 1  Home  D 0–0  Crystal Palace  Everton   \nVictor-Camarasa     0  Matchweek 1  Home  D 0–0  Crystal Palace  Everton   \nScott-Dann          0  Matchweek 1  Home  D 0–0  Crystal Palace  Everton   \nVicente-Guaita      0  Matchweek 1  Home  D 0–0  Crystal Palace  Everton   \nWayne-Hennessey     0  Matchweek 1  Home  D 0–0  Crystal Palace  Everton   \nMartin-Kelly        0  Matchweek 1  Home  D 0–0  Crystal Palace  Everton   \nCheikhou-Kouyate    5  Matchweek 1  Home  D 0–0  Crystal Palace  Everton   \nJames-McArthur      0  Matchweek 1  Home  D 0–0  Crystal Palace  Everton   \nJames-McCarthy      0  Matchweek 1  Home  D 0–0  Crystal Palace  Everton   \nMax-Meyer           0  Matchweek 1  Home  D 0–0  Crystal Palace  Everton   \nLuka-Milivojevic    0  Matchweek 1  Home  D 0–0  Crystal Palace  Everton   \nAndros-Townsend     0  Matchweek 1  Home  D 0–0  Crystal Palace  Everton   \nJoel-Ward           0  Matchweek 1  Home  D 0–0  Crystal Palace  Everton   \nConnor-Wickham      0  Matchweek 1  Home  D 0–0  Crystal Palace  Everton   \nWilfried-Zaha       3  Matchweek 1  Home  D 0–0  Crystal Palace  Everton   \n\n                      Start  ...  Thr  Launch%  AvgLen  Launch%.1  AvgLen.1  \\\nPatrick-van-Aanholt 0     Y  ...  NaN      NaN     NaN        NaN       NaN   \nJordan-Ayew         2     Y  ...  NaN      NaN     NaN        NaN       NaN   \nChristian-Benteke   0     Y  ...  NaN      NaN     NaN        NaN       NaN   \nGary-Cahill         0     N  ...  NaN      NaN     NaN        NaN       NaN   \nVictor-Camarasa     0     N  ...  NaN      NaN     NaN        NaN       NaN   \nScott-Dann          0     Y  ...  NaN      NaN     NaN        NaN       NaN   \nVicente-Guaita      0     Y  ...  2.0     46.7    41.9      100.0      80.5   \nWayne-Hennessey     0     N  ...  NaN      NaN     NaN        NaN       NaN   \nMartin-Kelly        0     Y  ...  NaN      NaN     NaN        NaN       NaN   \nCheikhou-Kouyate    5     N  ...  NaN      NaN     NaN        NaN       NaN   \nJames-McArthur      0     Y  ...  NaN      NaN     NaN        NaN       NaN   \nJames-McCarthy      0     N  ...  NaN      NaN     NaN        NaN       NaN   \nMax-Meyer           0     Y  ...  NaN      NaN     NaN        NaN       NaN   \nLuka-Milivojevic    0    Y*  ...  NaN      NaN     NaN        NaN       NaN   \nAndros-Townsend     0     Y  ...  NaN      NaN     NaN        NaN       NaN   \nJoel-Ward           0     Y  ...  NaN      NaN     NaN        NaN       NaN   \nConnor-Wickham      0     N  ...  NaN      NaN     NaN        NaN       NaN   \nWilfried-Zaha       3     N  ...  NaN      NaN     NaN        NaN       NaN   \n\n                        Opp  Stp  Stp%  #OPA  AvgDist  \nPatrick-van-Aanholt 0   NaN  NaN   NaN   NaN      NaN  \nJordan-Ayew         2   NaN  NaN   NaN   NaN      NaN  \nChristian-Benteke   0   NaN  NaN   NaN   NaN      NaN  \nGary-Cahill         0   NaN  NaN   NaN   NaN      NaN  \nVictor-Camarasa     0   NaN  NaN   NaN   NaN      NaN  \nScott-Dann          0   NaN  NaN   NaN   NaN      NaN  \nVicente-Guaita      0  10.0  0.0   0.0   0.0     14.2  \nWayne-Hennessey     0   NaN  NaN   NaN   NaN      NaN  \nMartin-Kelly        0   NaN  NaN   NaN   NaN      NaN  \nCheikhou-Kouyate    5   NaN  NaN   NaN   NaN      NaN  \nJames-McArthur      0   NaN  NaN   NaN   NaN      NaN  \nJames-McCarthy      0   NaN  NaN   NaN   NaN      NaN  \nMax-Meyer           0   NaN  NaN   NaN   NaN      NaN  \nLuka-Milivojevic    0   NaN  NaN   NaN   NaN      NaN  \nAndros-Townsend     0   NaN  NaN   NaN   NaN      NaN  \nJoel-Ward           0   NaN  NaN   NaN   NaN      NaN  \nConnor-Wickham      0   NaN  NaN   NaN   NaN      NaN  \nWilfried-Zaha       3   NaN  NaN   NaN   NaN      NaN  \n\n[18 rows x 133 columns]",
      "text/html": "<div>\n<style scoped>\n    .dataframe tbody tr th:only-of-type {\n        vertical-align: middle;\n    }\n\n    .dataframe tbody tr th {\n        vertical-align: top;\n    }\n\n    .dataframe thead th {\n        text-align: right;\n    }\n</style>\n<table border=\"1\" class=\"dataframe\">\n  <thead>\n    <tr style=\"text-align: right;\">\n      <th></th>\n      <th></th>\n      <th>Unnamed: 0</th>\n      <th>Date</th>\n      <th>Day</th>\n      <th>Comp</th>\n      <th>Round</th>\n      <th>Venue</th>\n      <th>Result</th>\n      <th>Squad</th>\n      <th>Opponent</th>\n      <th>Start</th>\n      <th>...</th>\n      <th>Thr</th>\n      <th>Launch%</th>\n      <th>AvgLen</th>\n      <th>Launch%.1</th>\n      <th>AvgLen.1</th>\n      <th>Opp</th>\n      <th>Stp</th>\n      <th>Stp%</th>\n      <th>#OPA</th>\n      <th>AvgDist</th>\n    </tr>\n  </thead>\n  <tbody>\n    <tr>\n      <th>Patrick-van-Aanholt</th>\n      <th>0</th>\n      <td>1</td>\n      <td>10/08/2019</td>\n      <td>Sat</td>\n      <td>Premier League</td>\n      <td>Matchweek 1</td>\n      <td>Home</td>\n      <td>D 0–0</td>\n      <td>Crystal Palace</td>\n      <td>Everton</td>\n      <td>Y</td>\n      <td>...</td>\n      <td>NaN</td>\n      <td>NaN</td>\n      <td>NaN</td>\n      <td>NaN</td>\n      <td>NaN</td>\n      <td>NaN</td>\n      <td>NaN</td>\n      <td>NaN</td>\n      <td>NaN</td>\n      <td>NaN</td>\n    </tr>\n    <tr>\n      <th>Jordan-Ayew</th>\n      <th>2</th>\n      <td>3</td>\n      <td>2019-08-10</td>\n      <td>Sat</td>\n      <td>Premier League</td>\n      <td>Matchweek 1</td>\n      <td>Home</td>\n      <td>D 0–0</td>\n      <td>Crystal Palace</td>\n      <td>Everton</td>\n      <td>Y</td>\n      <td>...</td>\n      <td>NaN</td>\n      <td>NaN</td>\n      <td>NaN</td>\n      <td>NaN</td>\n      <td>NaN</td>\n      <td>NaN</td>\n      <td>NaN</td>\n      <td>NaN</td>\n      <td>NaN</td>\n      <td>NaN</td>\n    </tr>\n    <tr>\n      <th>Christian-Benteke</th>\n      <th>0</th>\n      <td>1</td>\n      <td>2019-08-10</td>\n      <td>Sat</td>\n      <td>Premier League</td>\n      <td>Matchweek 1</td>\n      <td>Home</td>\n      <td>D 0–0</td>\n      <td>Crystal Palace</td>\n      <td>Everton</td>\n      <td>Y</td>\n      <td>...</td>\n      <td>NaN</td>\n      <td>NaN</td>\n      <td>NaN</td>\n      <td>NaN</td>\n      <td>NaN</td>\n      <td>NaN</td>\n      <td>NaN</td>\n      <td>NaN</td>\n      <td>NaN</td>\n      <td>NaN</td>\n    </tr>\n    <tr>\n      <th>Gary-Cahill</th>\n      <th>0</th>\n      <td>1</td>\n      <td>2019-08-10</td>\n      <td>Sat</td>\n      <td>Premier League</td>\n      <td>Matchweek 1</td>\n      <td>Home</td>\n      <td>D 0–0</td>\n      <td>Crystal Palace</td>\n      <td>Everton</td>\n      <td>N</td>\n      <td>...</td>\n      <td>NaN</td>\n      <td>NaN</td>\n      <td>NaN</td>\n      <td>NaN</td>\n      <td>NaN</td>\n      <td>NaN</td>\n      <td>NaN</td>\n      <td>NaN</td>\n      <td>NaN</td>\n      <td>NaN</td>\n    </tr>\n    <tr>\n      <th>Victor-Camarasa</th>\n      <th>0</th>\n      <td>1</td>\n      <td>2019-08-10</td>\n      <td>Sat</td>\n      <td>Premier League</td>\n      <td>Matchweek 1</td>\n      <td>Home</td>\n      <td>D 0–0</td>\n      <td>Crystal Palace</td>\n      <td>Everton</td>\n      <td>N</td>\n      <td>...</td>\n      <td>NaN</td>\n      <td>NaN</td>\n      <td>NaN</td>\n      <td>NaN</td>\n      <td>NaN</td>\n      <td>NaN</td>\n      <td>NaN</td>\n      <td>NaN</td>\n      <td>NaN</td>\n      <td>NaN</td>\n    </tr>\n    <tr>\n      <th>Scott-Dann</th>\n      <th>0</th>\n      <td>1</td>\n      <td>2019-08-10</td>\n      <td>Sat</td>\n      <td>Premier League</td>\n      <td>Matchweek 1</td>\n      <td>Home</td>\n      <td>D 0–0</td>\n      <td>Crystal Palace</td>\n      <td>Everton</td>\n      <td>Y</td>\n      <td>...</td>\n      <td>NaN</td>\n      <td>NaN</td>\n      <td>NaN</td>\n      <td>NaN</td>\n      <td>NaN</td>\n      <td>NaN</td>\n      <td>NaN</td>\n      <td>NaN</td>\n      <td>NaN</td>\n      <td>NaN</td>\n    </tr>\n    <tr>\n      <th>Vicente-Guaita</th>\n      <th>0</th>\n      <td>1</td>\n      <td>2019-08-10</td>\n      <td>Sat</td>\n      <td>Premier League</td>\n      <td>Matchweek 1</td>\n      <td>Home</td>\n      <td>D 0–0</td>\n      <td>Crystal Palace</td>\n      <td>Everton</td>\n      <td>Y</td>\n      <td>...</td>\n      <td>2.0</td>\n      <td>46.7</td>\n      <td>41.9</td>\n      <td>100.0</td>\n      <td>80.5</td>\n      <td>10.0</td>\n      <td>0.0</td>\n      <td>0.0</td>\n      <td>0.0</td>\n      <td>14.2</td>\n    </tr>\n    <tr>\n      <th>Wayne-Hennessey</th>\n      <th>0</th>\n      <td>1</td>\n      <td>2019-08-10</td>\n      <td>Sat</td>\n      <td>Premier League</td>\n      <td>Matchweek 1</td>\n      <td>Home</td>\n      <td>D 0–0</td>\n      <td>Crystal Palace</td>\n      <td>Everton</td>\n      <td>N</td>\n      <td>...</td>\n      <td>NaN</td>\n      <td>NaN</td>\n      <td>NaN</td>\n      <td>NaN</td>\n      <td>NaN</td>\n      <td>NaN</td>\n      <td>NaN</td>\n      <td>NaN</td>\n      <td>NaN</td>\n      <td>NaN</td>\n    </tr>\n    <tr>\n      <th>Martin-Kelly</th>\n      <th>0</th>\n      <td>1</td>\n      <td>2019-08-10</td>\n      <td>Sat</td>\n      <td>Premier League</td>\n      <td>Matchweek 1</td>\n      <td>Home</td>\n      <td>D 0–0</td>\n      <td>Crystal Palace</td>\n      <td>Everton</td>\n      <td>Y</td>\n      <td>...</td>\n      <td>NaN</td>\n      <td>NaN</td>\n      <td>NaN</td>\n      <td>NaN</td>\n      <td>NaN</td>\n      <td>NaN</td>\n      <td>NaN</td>\n      <td>NaN</td>\n      <td>NaN</td>\n      <td>NaN</td>\n    </tr>\n    <tr>\n      <th>Cheikhou-Kouyate</th>\n      <th>5</th>\n      <td>6</td>\n      <td>2019-08-10</td>\n      <td>Sat</td>\n      <td>Premier League</td>\n      <td>Matchweek 1</td>\n      <td>Home</td>\n      <td>D 0–0</td>\n      <td>Crystal Palace</td>\n      <td>Everton</td>\n      <td>N</td>\n      <td>...</td>\n      <td>NaN</td>\n      <td>NaN</td>\n      <td>NaN</td>\n      <td>NaN</td>\n      <td>NaN</td>\n      <td>NaN</td>\n      <td>NaN</td>\n      <td>NaN</td>\n      <td>NaN</td>\n      <td>NaN</td>\n    </tr>\n    <tr>\n      <th>James-McArthur</th>\n      <th>0</th>\n      <td>1</td>\n      <td>2019-08-10</td>\n      <td>Sat</td>\n      <td>Premier League</td>\n      <td>Matchweek 1</td>\n      <td>Home</td>\n      <td>D 0–0</td>\n      <td>Crystal Palace</td>\n      <td>Everton</td>\n      <td>Y</td>\n      <td>...</td>\n      <td>NaN</td>\n      <td>NaN</td>\n      <td>NaN</td>\n      <td>NaN</td>\n      <td>NaN</td>\n      <td>NaN</td>\n      <td>NaN</td>\n      <td>NaN</td>\n      <td>NaN</td>\n      <td>NaN</td>\n    </tr>\n    <tr>\n      <th>James-McCarthy</th>\n      <th>0</th>\n      <td>1</td>\n      <td>2019-08-10</td>\n      <td>Sat</td>\n      <td>Premier League</td>\n      <td>Matchweek 1</td>\n      <td>Home</td>\n      <td>D 0–0</td>\n      <td>Crystal Palace</td>\n      <td>Everton</td>\n      <td>N</td>\n      <td>...</td>\n      <td>NaN</td>\n      <td>NaN</td>\n      <td>NaN</td>\n      <td>NaN</td>\n      <td>NaN</td>\n      <td>NaN</td>\n      <td>NaN</td>\n      <td>NaN</td>\n      <td>NaN</td>\n      <td>NaN</td>\n    </tr>\n    <tr>\n      <th>Max-Meyer</th>\n      <th>0</th>\n      <td>1</td>\n      <td>2019-08-10</td>\n      <td>Sat</td>\n      <td>Premier League</td>\n      <td>Matchweek 1</td>\n      <td>Home</td>\n      <td>D 0–0</td>\n      <td>Crystal Palace</td>\n      <td>Everton</td>\n      <td>Y</td>\n      <td>...</td>\n      <td>NaN</td>\n      <td>NaN</td>\n      <td>NaN</td>\n      <td>NaN</td>\n      <td>NaN</td>\n      <td>NaN</td>\n      <td>NaN</td>\n      <td>NaN</td>\n      <td>NaN</td>\n      <td>NaN</td>\n    </tr>\n    <tr>\n      <th>Luka-Milivojevic</th>\n      <th>0</th>\n      <td>1</td>\n      <td>2019-08-10</td>\n      <td>Sat</td>\n      <td>Premier League</td>\n      <td>Matchweek 1</td>\n      <td>Home</td>\n      <td>D 0–0</td>\n      <td>Crystal Palace</td>\n      <td>Everton</td>\n      <td>Y*</td>\n      <td>...</td>\n      <td>NaN</td>\n      <td>NaN</td>\n      <td>NaN</td>\n      <td>NaN</td>\n      <td>NaN</td>\n      <td>NaN</td>\n      <td>NaN</td>\n      <td>NaN</td>\n      <td>NaN</td>\n      <td>NaN</td>\n    </tr>\n    <tr>\n      <th>Andros-Townsend</th>\n      <th>0</th>\n      <td>1</td>\n      <td>2019-08-10</td>\n      <td>Sat</td>\n      <td>Premier League</td>\n      <td>Matchweek 1</td>\n      <td>Home</td>\n      <td>D 0–0</td>\n      <td>Crystal Palace</td>\n      <td>Everton</td>\n      <td>Y</td>\n      <td>...</td>\n      <td>NaN</td>\n      <td>NaN</td>\n      <td>NaN</td>\n      <td>NaN</td>\n      <td>NaN</td>\n      <td>NaN</td>\n      <td>NaN</td>\n      <td>NaN</td>\n      <td>NaN</td>\n      <td>NaN</td>\n    </tr>\n    <tr>\n      <th>Joel-Ward</th>\n      <th>0</th>\n      <td>1</td>\n      <td>2019-08-10</td>\n      <td>Sat</td>\n      <td>Premier League</td>\n      <td>Matchweek 1</td>\n      <td>Home</td>\n      <td>D 0–0</td>\n      <td>Crystal Palace</td>\n      <td>Everton</td>\n      <td>Y</td>\n      <td>...</td>\n      <td>NaN</td>\n      <td>NaN</td>\n      <td>NaN</td>\n      <td>NaN</td>\n      <td>NaN</td>\n      <td>NaN</td>\n      <td>NaN</td>\n      <td>NaN</td>\n      <td>NaN</td>\n      <td>NaN</td>\n    </tr>\n    <tr>\n      <th>Connor-Wickham</th>\n      <th>0</th>\n      <td>1</td>\n      <td>2019-08-10</td>\n      <td>Sat</td>\n      <td>Premier League</td>\n      <td>Matchweek 1</td>\n      <td>Home</td>\n      <td>D 0–0</td>\n      <td>Crystal Palace</td>\n      <td>Everton</td>\n      <td>N</td>\n      <td>...</td>\n      <td>NaN</td>\n      <td>NaN</td>\n      <td>NaN</td>\n      <td>NaN</td>\n      <td>NaN</td>\n      <td>NaN</td>\n      <td>NaN</td>\n      <td>NaN</td>\n      <td>NaN</td>\n      <td>NaN</td>\n    </tr>\n    <tr>\n      <th>Wilfried-Zaha</th>\n      <th>3</th>\n      <td>4</td>\n      <td>2019-08-10</td>\n      <td>Sat</td>\n      <td>Premier League</td>\n      <td>Matchweek 1</td>\n      <td>Home</td>\n      <td>D 0–0</td>\n      <td>Crystal Palace</td>\n      <td>Everton</td>\n      <td>N</td>\n      <td>...</td>\n      <td>NaN</td>\n      <td>NaN</td>\n      <td>NaN</td>\n      <td>NaN</td>\n      <td>NaN</td>\n      <td>NaN</td>\n      <td>NaN</td>\n      <td>NaN</td>\n      <td>NaN</td>\n      <td>NaN</td>\n    </tr>\n  </tbody>\n</table>\n<p>18 rows × 133 columns</p>\n</div>"
     },
     "execution_count": 18,
     "metadata": {},
     "output_type": "execute_result"
    }
   ],
   "source": [
    "pl_data.query(\"Round == 'Matchweek 1' & Opponent == 'Everton'\")"
   ],
   "metadata": {
    "collapsed": false,
    "pycharm": {
     "name": "#%%\n"
    }
   }
  },
  {
   "cell_type": "code",
   "execution_count": null,
   "outputs": [],
   "source": [
    "\n"
   ],
   "metadata": {
    "collapsed": false,
    "pycharm": {
     "name": "#%%\n"
    }
   }
  },
  {
   "cell_type": "markdown",
   "source": [
    "How to access various data pieces\n"
   ],
   "metadata": {
    "collapsed": false,
    "pycharm": {
     "name": "#%% md\n"
    }
   }
  },
  {
   "cell_type": "markdown",
   "source": [
    "Now, to practice getting out various pieces of data"
   ],
   "metadata": {
    "collapsed": false,
    "pycharm": {
     "name": "#%% md\n"
    }
   }
  },
  {
   "cell_type": "code",
   "execution_count": 8,
   "outputs": [],
   "source": [
    "keys = [data_dict[player] for player in data_dict]\n",
    "\n",
    "# total goals\n",
    "total_goals_dict = {player: data_dict[player].Gls.sum(skipna=True) for player in data_dict}\n",
    "total_goals = pd.Series(total_goals_dict)"
   ],
   "metadata": {
    "collapsed": false,
    "pycharm": {
     "name": "#%%\n"
    }
   }
  },
  {
   "cell_type": "code",
   "execution_count": 9,
   "outputs": [
    {
     "ename": "AttributeError",
     "evalue": "'DataFrame' object has no attribute 'Prog'",
     "output_type": "error",
     "traceback": [
      "\u001B[1;31m---------------------------------------------------------------------------\u001B[0m",
      "\u001B[1;31mAttributeError\u001B[0m                            Traceback (most recent call last)",
      "\u001B[1;32m<ipython-input-9-fa2a915b96a3>\u001B[0m in \u001B[0;36m<module>\u001B[1;34m\u001B[0m\n\u001B[0;32m      1\u001B[0m \u001B[1;31m# total goals\u001B[0m\u001B[1;33m\u001B[0m\u001B[1;33m\u001B[0m\u001B[1;33m\u001B[0m\u001B[0m\n\u001B[1;32m----> 2\u001B[1;33m \u001B[0mSCA_dict\u001B[0m \u001B[1;33m=\u001B[0m \u001B[1;33m{\u001B[0m\u001B[0mplayer\u001B[0m\u001B[1;33m:\u001B[0m \u001B[0mdata_dict\u001B[0m\u001B[1;33m[\u001B[0m\u001B[0mplayer\u001B[0m\u001B[1;33m]\u001B[0m\u001B[1;33m.\u001B[0m\u001B[0mProg\u001B[0m\u001B[1;33m.\u001B[0m\u001B[0msum\u001B[0m\u001B[1;33m(\u001B[0m\u001B[0mskipna\u001B[0m\u001B[1;33m=\u001B[0m\u001B[1;32mTrue\u001B[0m\u001B[1;33m)\u001B[0m \u001B[1;32mfor\u001B[0m \u001B[0mplayer\u001B[0m \u001B[1;32min\u001B[0m \u001B[0mdata_dict\u001B[0m\u001B[1;33m}\u001B[0m\u001B[1;33m\u001B[0m\u001B[1;33m\u001B[0m\u001B[0m\n\u001B[0m\u001B[0;32m      3\u001B[0m \u001B[0mSCA_df\u001B[0m \u001B[1;33m=\u001B[0m \u001B[0mpd\u001B[0m\u001B[1;33m.\u001B[0m\u001B[0mSeries\u001B[0m\u001B[1;33m(\u001B[0m\u001B[0mSCA_dict\u001B[0m\u001B[1;33m)\u001B[0m\u001B[1;33m\u001B[0m\u001B[1;33m\u001B[0m\u001B[0m\n\u001B[0;32m      4\u001B[0m \u001B[1;33m\u001B[0m\u001B[0m\n\u001B[0;32m      5\u001B[0m \u001B[1;33m\u001B[0m\u001B[0m\n",
      "\u001B[1;32m<ipython-input-9-fa2a915b96a3>\u001B[0m in \u001B[0;36m<dictcomp>\u001B[1;34m(.0)\u001B[0m\n\u001B[0;32m      1\u001B[0m \u001B[1;31m# total goals\u001B[0m\u001B[1;33m\u001B[0m\u001B[1;33m\u001B[0m\u001B[1;33m\u001B[0m\u001B[0m\n\u001B[1;32m----> 2\u001B[1;33m \u001B[0mSCA_dict\u001B[0m \u001B[1;33m=\u001B[0m \u001B[1;33m{\u001B[0m\u001B[0mplayer\u001B[0m\u001B[1;33m:\u001B[0m \u001B[0mdata_dict\u001B[0m\u001B[1;33m[\u001B[0m\u001B[0mplayer\u001B[0m\u001B[1;33m]\u001B[0m\u001B[1;33m.\u001B[0m\u001B[0mProg\u001B[0m\u001B[1;33m.\u001B[0m\u001B[0msum\u001B[0m\u001B[1;33m(\u001B[0m\u001B[0mskipna\u001B[0m\u001B[1;33m=\u001B[0m\u001B[1;32mTrue\u001B[0m\u001B[1;33m)\u001B[0m \u001B[1;32mfor\u001B[0m \u001B[0mplayer\u001B[0m \u001B[1;32min\u001B[0m \u001B[0mdata_dict\u001B[0m\u001B[1;33m}\u001B[0m\u001B[1;33m\u001B[0m\u001B[1;33m\u001B[0m\u001B[0m\n\u001B[0m\u001B[0;32m      3\u001B[0m \u001B[0mSCA_df\u001B[0m \u001B[1;33m=\u001B[0m \u001B[0mpd\u001B[0m\u001B[1;33m.\u001B[0m\u001B[0mSeries\u001B[0m\u001B[1;33m(\u001B[0m\u001B[0mSCA_dict\u001B[0m\u001B[1;33m)\u001B[0m\u001B[1;33m\u001B[0m\u001B[1;33m\u001B[0m\u001B[0m\n\u001B[0;32m      4\u001B[0m \u001B[1;33m\u001B[0m\u001B[0m\n\u001B[0;32m      5\u001B[0m \u001B[1;33m\u001B[0m\u001B[0m\n",
      "\u001B[1;32mc:\\users\\robert\\lib\\site-packages\\pandas\\core\\generic.py\u001B[0m in \u001B[0;36m__getattr__\u001B[1;34m(self, name)\u001B[0m\n\u001B[0;32m   5177\u001B[0m             \u001B[1;32mif\u001B[0m \u001B[0mself\u001B[0m\u001B[1;33m.\u001B[0m\u001B[0m_info_axis\u001B[0m\u001B[1;33m.\u001B[0m\u001B[0m_can_hold_identifiers_and_holds_name\u001B[0m\u001B[1;33m(\u001B[0m\u001B[0mname\u001B[0m\u001B[1;33m)\u001B[0m\u001B[1;33m:\u001B[0m\u001B[1;33m\u001B[0m\u001B[1;33m\u001B[0m\u001B[0m\n\u001B[0;32m   5178\u001B[0m                 \u001B[1;32mreturn\u001B[0m \u001B[0mself\u001B[0m\u001B[1;33m[\u001B[0m\u001B[0mname\u001B[0m\u001B[1;33m]\u001B[0m\u001B[1;33m\u001B[0m\u001B[1;33m\u001B[0m\u001B[0m\n\u001B[1;32m-> 5179\u001B[1;33m             \u001B[1;32mreturn\u001B[0m \u001B[0mobject\u001B[0m\u001B[1;33m.\u001B[0m\u001B[0m__getattribute__\u001B[0m\u001B[1;33m(\u001B[0m\u001B[0mself\u001B[0m\u001B[1;33m,\u001B[0m \u001B[0mname\u001B[0m\u001B[1;33m)\u001B[0m\u001B[1;33m\u001B[0m\u001B[1;33m\u001B[0m\u001B[0m\n\u001B[0m\u001B[0;32m   5180\u001B[0m \u001B[1;33m\u001B[0m\u001B[0m\n\u001B[0;32m   5181\u001B[0m     \u001B[1;32mdef\u001B[0m \u001B[0m__setattr__\u001B[0m\u001B[1;33m(\u001B[0m\u001B[0mself\u001B[0m\u001B[1;33m,\u001B[0m \u001B[0mname\u001B[0m\u001B[1;33m,\u001B[0m \u001B[0mvalue\u001B[0m\u001B[1;33m)\u001B[0m\u001B[1;33m:\u001B[0m\u001B[1;33m\u001B[0m\u001B[1;33m\u001B[0m\u001B[0m\n",
      "\u001B[1;31mAttributeError\u001B[0m: 'DataFrame' object has no attribute 'Prog'"
     ]
    }
   ],
   "source": [
    "# total goals\n",
    "SCA_dict = {player: data_dict[player].Prog.sum(skipna=True) for player in data_dict}\n",
    "SCA_df = pd.Series(SCA_dict)\n",
    "\n"
   ],
   "metadata": {
    "collapsed": false,
    "pycharm": {
     "name": "#%%\n"
    }
   }
  }
 ],
 "metadata": {
  "kernelspec": {
   "display_name": "Python 3",
   "language": "python",
   "name": "python3"
  },
  "language_info": {
   "codemirror_mode": {
    "name": "ipython",
    "version": 2
   },
   "file_extension": ".py",
   "mimetype": "text/x-python",
   "name": "python",
   "nbconvert_exporter": "python",
   "pygments_lexer": "ipython2",
   "version": "2.7.6"
  }
 },
 "nbformat": 4,
 "nbformat_minor": 0
}